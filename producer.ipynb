{
 "cells": [
  {
   "cell_type": "code",
   "execution_count": null,
   "metadata": {},
   "outputs": [],
   "source": [
    "from confluent_kafka import Producer\n",
    "import pandas as pd\n",
    "from threading import Timer\n",
    "import time\n",
    "from datetime import datetime\n",
    "def acked(err, msg):\n",
    "    if err is not None:\n",
    "        \"\"\"\n",
    "        print(\"Failed to deliver message: {0}: {1}\"\n",
    "              .format(msg.value(), err.str()))\n",
    "        \"\"\"\n",
    "    else:\n",
    "        \"\"\"\n",
    "        print(\"Message produced: {0}\".format(msg.value()))\n",
    "        \"\"\"\n",
    "while True:\n",
    "    starttime = datetime.now()\n",
    "    \n",
    "    \n",
    "\n",
    "\n",
    "    p = Producer({'bootstrap.servers': 'localhost:9092'})\n",
    "\n",
    "    file = pd.read_csv('2245nnw.csv')\n",
    "\n",
    "\n",
    "    try:\n",
    "        for row in file.iterrows():\n",
    "            p.produce('mytopic', 'myvalue #{0}'\n",
    "                    .format(row), callback=acked)\n",
    "            \n",
    "\n",
    "    except KeyboardInterrupt:\n",
    "        pass\n",
    "\n",
    "    \n",
    "    endtime = datetime.now()\n",
    "    tt=endtime-starttime\n",
    "    print(tt)\n",
    "    tt=str(tt)\n",
    "    tt=tt[5:]\n",
    "    tt=float(tt)\n",
    "    st=5-tt\n",
    "    time.sleep(st)\n",
    "    print(datetime.now())"
   ]
  },
  {
   "cell_type": "code",
   "execution_count": null,
   "metadata": {},
   "outputs": [],
   "source": []
  }
 ],
 "metadata": {
  "kernelspec": {
   "display_name": "Python 3",
   "language": "python",
   "name": "python3"
  },
  "language_info": {
   "codemirror_mode": {
    "name": "ipython",
    "version": 3
   },
   "file_extension": ".py",
   "mimetype": "text/x-python",
   "name": "python",
   "nbconvert_exporter": "python",
   "pygments_lexer": "ipython3",
   "version": "3.7.1"
  }
 },
 "nbformat": 4,
 "nbformat_minor": 2
}
