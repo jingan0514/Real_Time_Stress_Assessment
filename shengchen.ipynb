{
 "cells": [
  {
   "cell_type": "code",
   "execution_count": null,
   "metadata": {},
   "outputs": [],
   "source": [
    "import pandas as pd\n",
    "al = pd.read_csv('yyy.csv')\n",
    "\n",
    "from threading import Timer\n",
    "import time\n",
    "from datetime import datetime\n",
    "while True:\n",
    "    starttime = datetime.now()\n",
    "    print(starttime)\n",
    "    out=al[0:3500]\n",
    "    al=al[3500:]\n",
    "    if len(al)<3500:\n",
    "        break\n",
    "    \n",
    "    out.to_csv('2245nnw.csv',index=False)\n",
    "    endtime = datetime.now()\n",
    "    tt=endtime-starttime\n",
    "   \n",
    "    tt=str(tt)\n",
    "    tt=tt[5:]\n",
    "    print(tt)\n",
    "    tt=float(tt)\n",
    "    st=5-tt\n",
    "    time.sleep(st)"
   ]
  },
  {
   "cell_type": "code",
   "execution_count": null,
   "metadata": {},
   "outputs": [],
   "source": []
  }
 ],
 "metadata": {
  "kernelspec": {
   "display_name": "Python 3",
   "language": "python",
   "name": "python3"
  },
  "language_info": {
   "codemirror_mode": {
    "name": "ipython",
    "version": 3
   },
   "file_extension": ".py",
   "mimetype": "text/x-python",
   "name": "python",
   "nbconvert_exporter": "python",
   "pygments_lexer": "ipython3",
   "version": "3.7.1"
  }
 },
 "nbformat": 4,
 "nbformat_minor": 2
}
